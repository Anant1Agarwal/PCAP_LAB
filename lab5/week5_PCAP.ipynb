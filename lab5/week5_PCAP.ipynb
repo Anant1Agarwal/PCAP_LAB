{
  "nbformat": 4,
  "nbformat_minor": 0,
  "metadata": {
    "colab": {
      "provenance": []
    },
    "kernelspec": {
      "name": "python3",
      "display_name": "Python 3"
    },
    "language_info": {
      "name": "python"
    }
  },
  "cells": [
    {
      "cell_type": "code",
      "source": [
        "!nvcc --version"
      ],
      "metadata": {
        "id": "ru6d8X4XB4cC"
      },
      "execution_count": null,
      "outputs": []
    },
    {
      "cell_type": "code",
      "source": [
        "!wget https://developer.download.nvidia.com/compute/cuda/11.8.0/local_installers/cuda_11.8.0_520.61.05_linux.run\n",
        "!chmod +x cuda_11.8.0_520.61.05_linux.run\n",
        "!./cuda_11.8.0_520.61.05_linux.run --silent --toolkit"
      ],
      "metadata": {
        "colab": {
          "base_uri": "https://localhost:8080/"
        },
        "id": "HufI6Krr3UvS",
        "outputId": "a9fd139e-0ac5-4c43-ae19-b48779336b2f"
      },
      "execution_count": 13,
      "outputs": [
        {
          "output_type": "stream",
          "name": "stdout",
          "text": [
            "--2025-04-19 12:31:51--  https://developer.download.nvidia.com/compute/cuda/11.8.0/local_installers/cuda_11.8.0_520.61.05_linux.run\n",
            "Resolving developer.download.nvidia.com (developer.download.nvidia.com)... 23.40.40.50, 23.40.40.83\n",
            "Connecting to developer.download.nvidia.com (developer.download.nvidia.com)|23.40.40.50|:443... connected.\n",
            "HTTP request sent, awaiting response... 200 OK\n",
            "Length: 4336730777 (4.0G) [application/octet-stream]\n",
            "Saving to: ‘cuda_11.8.0_520.61.05_linux.run.1’\n",
            "\n",
            "cuda_11.8.0_520.61. 100%[===================>]   4.04G  78.7MB/s    in 55s     \n",
            "\n",
            "2025-04-19 12:32:47 (75.0 MB/s) - ‘cuda_11.8.0_520.61.05_linux.run.1’ saved [4336730777/4336730777]\n",
            "\n"
          ]
        }
      ]
    },
    {
      "cell_type": "code",
      "source": [
        "!nvcc --version"
      ],
      "metadata": {
        "colab": {
          "base_uri": "https://localhost:8080/"
        },
        "id": "aWjpYCwiB_cB",
        "outputId": "e16ec309-7208-429d-d6d5-7ee64d211654"
      },
      "execution_count": 14,
      "outputs": [
        {
          "output_type": "stream",
          "name": "stdout",
          "text": [
            "nvcc: NVIDIA (R) Cuda compiler driver\n",
            "Copyright (c) 2005-2022 NVIDIA Corporation\n",
            "Built on Wed_Sep_21_10:33:58_PDT_2022\n",
            "Cuda compilation tools, release 11.8, V11.8.89\n",
            "Build cuda_11.8.r11.8/compiler.31833905_0\n"
          ]
        }
      ]
    },
    {
      "cell_type": "markdown",
      "source": [
        "# Q1"
      ],
      "metadata": {
        "id": "7qc7-VyH7ke7"
      }
    },
    {
      "cell_type": "code",
      "execution_count": 15,
      "metadata": {
        "colab": {
          "base_uri": "https://localhost:8080/"
        },
        "id": "Q9tFZl7hv_WP",
        "outputId": "81e8f04b-7bff-4e0e-fb9b-c4cb0695696f"
      },
      "outputs": [
        {
          "output_type": "stream",
          "name": "stdout",
          "text": [
            "Overwriting q1.cu\n"
          ]
        }
      ],
      "source": [
        "%%writefile q1.cu\n",
        "// %%writefile q1.cu\n",
        "#include <stdio.h>\n",
        "#include <cuda.h>\n",
        "#include <stdlib.h>\n",
        "\n",
        "__global__ void vecAddKernel(int *A, int *B, int *C,int n){\n",
        "    int i=blockDim.x*blockIdx.x+threadIdx.x;\n",
        "\n",
        "    printf(\"In Kernel function, i=%d \",i);\n",
        "    if(i<n){\n",
        "        C[i]=A[i]+B[i];\n",
        "    }\n",
        "}\n",
        "\n",
        "int main(){\n",
        "    int n;\n",
        "    printf(\"Enter Number of Elements: \");\n",
        "    scanf(\"%d\",&n);\n",
        "\n",
        "    int *a,*b,*c;\n",
        "\n",
        "    a=(int *)malloc(n*sizeof(int));\n",
        "    b=(int *)malloc(n*sizeof(int));\n",
        "    c=(int *)malloc(n*sizeof(int));\n",
        "\n",
        "    printf(\"\\n Enter Array A: \");\n",
        "\n",
        "    for(int i=0;i<n;i++){\n",
        "        scanf(\"%d\", &a[i]);\n",
        "    }\n",
        "\n",
        "    printf(\"\\n Enter Array B: \");\n",
        "\n",
        "    for(int i=0;i<n;i++){\n",
        "        scanf(\"%d\", &b[i]);\n",
        "    }\n",
        "\n",
        "    int *da, *db, *dc;\n",
        "\n",
        "    int size=n*sizeof(int);\n",
        "\n",
        "    //part-1\n",
        "    cudaMalloc((void **)&da,size);\n",
        "    cudaMalloc((void **)&db,size);\n",
        "    cudaMalloc((void **)&dc,size);\n",
        "\n",
        "    cudaMemcpy(da, a, size,cudaMemcpyHostToDevice);\n",
        "    cudaMemcpy(db, b, size,cudaMemcpyHostToDevice);\n",
        "\n",
        "    // part-2 blocks and threads\n",
        "    // int blocks = (n + 255) / 256;\n",
        "    // vecAddKernel<<<blocks, 256>>>(da, db, dc, n);\n",
        "    // OR\n",
        "    vecAddKernel<<< ceil(n/256.0), 256 >>>(da, db, dc, n);\n",
        "\n",
        "    // Error check\n",
        "    cudaError_t err = cudaGetLastError();\n",
        "    if (err != cudaSuccess) {\n",
        "        printf(\"CUDA error: %s\\n\", cudaGetErrorString(err));\n",
        "    }\n",
        "\n",
        "    // part-3 transfer to C\n",
        "\n",
        "    cudaMemcpy(c,dc,size,cudaMemcpyDeviceToHost);\n",
        "\n",
        "    printf(\"\\nFinal Array after adding both is : \");\n",
        "\n",
        "    for(int i=0;i<n;i++){\n",
        "        printf(\"%d\\t\",c[i]);\n",
        "    }\n",
        "\n",
        "    free(a);\n",
        "    free(b);\n",
        "    free(c);\n",
        "    cudaFree(da);\n",
        "    cudaFree(db);\n",
        "    cudaFree(dc);\n",
        "}"
      ]
    },
    {
      "cell_type": "code",
      "source": [
        "!nvcc q1.cu -o q1.out"
      ],
      "metadata": {
        "id": "jJKXiIU9wD1m"
      },
      "execution_count": 16,
      "outputs": []
    },
    {
      "cell_type": "code",
      "source": [
        "!./q1.out"
      ],
      "metadata": {
        "colab": {
          "base_uri": "https://localhost:8080/"
        },
        "id": "sv3BE_6MwE1e",
        "outputId": "4e339b36-c8ad-4d22-9e7b-6ef6e7bf3ff4"
      },
      "execution_count": 17,
      "outputs": [
        {
          "output_type": "stream",
          "name": "stdout",
          "text": [
            "Enter Number of Elements: 3\n",
            "\n",
            " Enter Array A: 2 4 6\n",
            "\n",
            " Enter Array B: 1 2 43\n",
            "In Kernel function, i=128 In Kernel function, i=129 In Kernel function, i=130 In Kernel function, i=131 In Kernel function, i=132 In Kernel function, i=133 In Kernel function, i=134 In Kernel function, i=135 In Kernel function, i=136 In Kernel function, i=137 In Kernel function, i=138 In Kernel function, i=139 In Kernel function, i=140 In Kernel function, i=141 In Kernel function, i=142 In Kernel function, i=143 In Kernel function, i=144 In Kernel function, i=145 In Kernel function, i=146 In Kernel function, i=147 In Kernel function, i=148 In Kernel function, i=149 In Kernel function, i=150 In Kernel function, i=151 In Kernel function, i=152 In Kernel function, i=153 In Kernel function, i=154 In Kernel function, i=155 In Kernel function, i=156 In Kernel function, i=157 In Kernel function, i=158 In Kernel function, i=159 In Kernel function, i=192 In Kernel function, i=193 In Kernel function, i=194 In Kernel function, i=195 In Kernel function, i=196 In Kernel function, i=197 In Kernel function, i=198 In Kernel function, i=199 In Kernel function, i=200 In Kernel function, i=201 In Kernel function, i=202 In Kernel function, i=203 In Kernel function, i=204 In Kernel function, i=205 In Kernel function, i=206 In Kernel function, i=207 In Kernel function, i=208 In Kernel function, i=209 In Kernel function, i=210 In Kernel function, i=211 In Kernel function, i=212 In Kernel function, i=213 In Kernel function, i=214 In Kernel function, i=215 In Kernel function, i=216 In Kernel function, i=217 In Kernel function, i=218 In Kernel function, i=219 In Kernel function, i=220 In Kernel function, i=221 In Kernel function, i=222 In Kernel function, i=223 In Kernel function, i=32 In Kernel function, i=33 In Kernel function, i=34 In Kernel function, i=35 In Kernel function, i=36 In Kernel function, i=37 In Kernel function, i=38 In Kernel function, i=39 In Kernel function, i=40 In Kernel function, i=41 In Kernel function, i=42 In Kernel function, i=43 In Kernel function, i=44 In Kernel function, i=45 In Kernel function, i=46 In Kernel function, i=47 In Kernel function, i=48 In Kernel function, i=49 In Kernel function, i=50 In Kernel function, i=51 In Kernel function, i=52 In Kernel function, i=53 In Kernel function, i=54 In Kernel function, i=55 In Kernel function, i=56 In Kernel function, i=57 In Kernel function, i=58 In Kernel function, i=59 In Kernel function, i=60 In Kernel function, i=61 In Kernel function, i=62 In Kernel function, i=63 In Kernel function, i=224 In Kernel function, i=225 In Kernel function, i=226 In Kernel function, i=227 In Kernel function, i=228 In Kernel function, i=229 In Kernel function, i=230 In Kernel function, i=231 In Kernel function, i=232 In Kernel function, i=233 In Kernel function, i=234 In Kernel function, i=235 In Kernel function, i=236 In Kernel function, i=237 In Kernel function, i=238 In Kernel function, i=239 In Kernel function, i=240 In Kernel function, i=241 In Kernel function, i=242 In Kernel function, i=243 In Kernel function, i=244 In Kernel function, i=245 In Kernel function, i=246 In Kernel function, i=247 In Kernel function, i=248 In Kernel function, i=249 In Kernel function, i=250 In Kernel function, i=251 In Kernel function, i=252 In Kernel function, i=253 In Kernel function, i=254 In Kernel function, i=255 In Kernel function, i=0 In Kernel function, i=1 In Kernel function, i=2 In Kernel function, i=3 In Kernel function, i=4 In Kernel function, i=5 In Kernel function, i=6 In Kernel function, i=7 In Kernel function, i=8 In Kernel function, i=9 In Kernel function, i=10 In Kernel function, i=11 In Kernel function, i=12 In Kernel function, i=13 In Kernel function, i=14 In Kernel function, i=15 In Kernel function, i=16 In Kernel function, i=17 In Kernel function, i=18 In Kernel function, i=19 In Kernel function, i=20 In Kernel function, i=21 In Kernel function, i=22 In Kernel function, i=23 In Kernel function, i=24 In Kernel function, i=25 In Kernel function, i=26 In Kernel function, i=27 In Kernel function, i=28 In Kernel function, i=29 In Kernel function, i=30 In Kernel function, i=31 In Kernel function, i=160 In Kernel function, i=161 In Kernel function, i=162 In Kernel function, i=163 In Kernel function, i=164 In Kernel function, i=165 In Kernel function, i=166 In Kernel function, i=167 In Kernel function, i=168 In Kernel function, i=169 In Kernel function, i=170 In Kernel function, i=171 In Kernel function, i=172 In Kernel function, i=173 In Kernel function, i=174 In Kernel function, i=175 In Kernel function, i=176 In Kernel function, i=177 In Kernel function, i=178 In Kernel function, i=179 In Kernel function, i=180 In Kernel function, i=181 In Kernel function, i=182 In Kernel function, i=183 In Kernel function, i=184 In Kernel function, i=185 In Kernel function, i=186 In Kernel function, i=187 In Kernel function, i=188 In Kernel function, i=189 In Kernel function, i=190 In Kernel function, i=191 In Kernel function, i=96 In Kernel function, i=97 In Kernel function, i=98 In Kernel function, i=99 In Kernel function, i=100 In Kernel function, i=101 In Kernel function, i=102 In Kernel function, i=103 In Kernel function, i=104 In Kernel function, i=105 In Kernel function, i=106 In Kernel function, i=107 In Kernel function, i=108 In Kernel function, i=109 In Kernel function, i=110 In Kernel function, i=111 In Kernel function, i=112 In Kernel function, i=113 In Kernel function, i=114 In Kernel function, i=115 In Kernel function, i=116 In Kernel function, i=117 In Kernel function, i=118 In Kernel function, i=119 In Kernel function, i=120 In Kernel function, i=121 In Kernel function, i=122 In Kernel function, i=123 In Kernel function, i=124 In Kernel function, i=125 In Kernel function, i=126 In Kernel function, i=127 In Kernel function, i=64 In Kernel function, i=65 In Kernel function, i=66 In Kernel function, i=67 In Kernel function, i=68 In Kernel function, i=69 In Kernel function, i=70 In Kernel function, i=71 In Kernel function, i=72 In Kernel function, i=73 In Kernel function, i=74 In Kernel function, i=75 In Kernel function, i=76 In Kernel function, i=77 In Kernel function, i=78 In Kernel function, i=79 In Kernel function, i=80 In Kernel function, i=81 In Kernel function, i=82 In Kernel function, i=83 In Kernel function, i=84 In Kernel function, i=85 In Kernel function, i=86 In Kernel function, i=87 In Kernel function, i=88 In Kernel function, i=89 In Kernel function, i=90 In Kernel function, i=91 In Kernel function, i=92 In Kernel function, i=93 In Kernel function, i=94 In Kernel function, i=95 \n",
            "Final Array after adding both is : 3\t6\t49\t"
          ]
        }
      ]
    },
    {
      "cell_type": "code",
      "source": [
        "%%writefile q1_a.cu\n",
        "#include <stdio.h>\n",
        "#include <cuda.h>\n",
        "#include <stdlib.h>\n",
        "\n",
        "__global__ void vecAddKernel(int *A, int *B, int *C,int n){\n",
        "    int i=blockDim.x*blockIdx.x+threadIdx.x;\n",
        "\n",
        "    printf(\"In Kernel function, i=%d \",i);\n",
        "    if(i<n){\n",
        "        C[i]=A[i]+B[i];\n",
        "    }\n",
        "}\n",
        "\n",
        "int main(){\n",
        "    int n;\n",
        "    printf(\"Enter Number of Elements: \");\n",
        "    scanf(\"%d\",&n);\n",
        "\n",
        "    int *a,*b,*c;\n",
        "\n",
        "    a=(int *)malloc(n*sizeof(int));\n",
        "    b=(int *)malloc(n*sizeof(int));\n",
        "    c=(int *)malloc(n*sizeof(int));\n",
        "\n",
        "    printf(\"\\n Enter Array A: \");\n",
        "\n",
        "    for(int i=0;i<n;i++){\n",
        "        scanf(\"%d\", &a[i]);\n",
        "    }\n",
        "\n",
        "    printf(\"\\n Enter Array B: \");\n",
        "\n",
        "    for(int i=0;i<n;i++){\n",
        "        scanf(\"%d\", &b[i]);\n",
        "    }\n",
        "\n",
        "    int *da, *db, *dc;\n",
        "\n",
        "    int size=n*sizeof(int);\n",
        "\n",
        "    //part-1\n",
        "    cudaMalloc((void **)&da,size);\n",
        "    cudaMalloc((void **)&db,size);\n",
        "    cudaMalloc((void **)&dc,size);\n",
        "\n",
        "    cudaMemcpy(da, a, size,cudaMemcpyHostToDevice);\n",
        "    cudaMemcpy(db, b, size,cudaMemcpyHostToDevice);\n",
        "\n",
        "    // part-2 blocks and threads\n",
        "    // int blocks = (n + 255) / 256;\n",
        "    // vecAddKernel<<<blocks, 256>>>(da, db, dc, n);\n",
        "    // OR\n",
        "    // vecAddKernel<<< ceil(n/256.0), 256 >>>(da, db, dc, n);\n",
        "    // OR\n",
        "    vecAddKernel<<<1,n>>>(da,db,dc,n);\n",
        "\n",
        "    // Error check\n",
        "    cudaError_t err = cudaGetLastError();\n",
        "    if (err != cudaSuccess) {\n",
        "        printf(\"CUDA error: %s\\n\", cudaGetErrorString(err));\n",
        "    }\n",
        "\n",
        "    // part-3 transfer to C\n",
        "\n",
        "    cudaMemcpy(c,dc,size,cudaMemcpyDeviceToHost);\n",
        "\n",
        "    printf(\"\\nFinal Array after adding both is : \");\n",
        "\n",
        "    for(int i=0;i<n;i++){\n",
        "        printf(\"%d\\t\",c[i]);\n",
        "    }\n",
        "\n",
        "    free(a);\n",
        "    free(b);\n",
        "    free(c);\n",
        "    cudaFree(da);\n",
        "    cudaFree(db);\n",
        "    cudaFree(dc);\n",
        "}\n"
      ],
      "metadata": {
        "colab": {
          "base_uri": "https://localhost:8080/"
        },
        "id": "diSUUdc019nV",
        "outputId": "a9fb26ae-9f86-4b2f-e124-70834a8a6686"
      },
      "execution_count": 20,
      "outputs": [
        {
          "output_type": "stream",
          "name": "stdout",
          "text": [
            "Overwriting q1_a.cu\n"
          ]
        }
      ]
    },
    {
      "cell_type": "code",
      "source": [
        "!nvcc q1_a.cu -o output.out\n",
        "!./output.out"
      ],
      "metadata": {
        "colab": {
          "base_uri": "https://localhost:8080/"
        },
        "id": "I0hF3aPl5sTR",
        "outputId": "51e4f736-8fc4-47ca-9973-df5cd26d3cff"
      },
      "execution_count": 22,
      "outputs": [
        {
          "output_type": "stream",
          "name": "stdout",
          "text": [
            "Enter Number of Elements: 3\n",
            "\n",
            " Enter Array A: 1 2 4\n",
            "\n",
            " Enter Array B: 2 5 7\n",
            "In Kernel function, i=0 In Kernel function, i=1 In Kernel function, i=2 \n",
            "Final Array after adding both is : 3\t7\t11\t"
          ]
        }
      ]
    },
    {
      "cell_type": "code",
      "source": [
        "%%writefile q1_b.cu\n",
        "\n",
        "#include <stdlib.h>\n",
        "#include <stdio.h>\n",
        "#include <cuda.h>\n",
        "\n",
        "__global__ void vecAddKernel(int *A, int *B, int *C,int n){\n",
        "    int i=blockDim.x*blockIdx.x+threadIdx.x;\n",
        "\n",
        "    if(i<n){\n",
        "        C[i]=A[i]+B[i];\n",
        "    }\n",
        "}\n",
        "\n",
        "int main(){\n",
        "    int n;\n",
        "    printf(\"Enter Number of Elements: \");\n",
        "    scanf(\"%d\",&n);\n",
        "\n",
        "    int *a,*b,*c;\n",
        "\n",
        "    a=(int *)malloc(n*sizeof(int));\n",
        "    b=(int *)malloc(n*sizeof(int));\n",
        "    c=(int *)malloc(n*sizeof(int));\n",
        "\n",
        "    printf(\"\\n Enter Array A: \");\n",
        "\n",
        "    for(int i=0;i<n;i++){\n",
        "        scanf(\"%d\", &a[i]);\n",
        "    }\n",
        "\n",
        "    printf(\"\\n Enter Array B: \");\n",
        "\n",
        "    for(int i=0;i<n;i++){\n",
        "        scanf(\"%d\", &b[i]);\n",
        "    }\n",
        "\n",
        "    int *da, *db, *dc;\n",
        "\n",
        "    int size=n*sizeof(int);\n",
        "\n",
        "    //part-1\n",
        "    cudaMalloc((void **)&da,size);\n",
        "    cudaMalloc((void **)&db,size);\n",
        "    cudaMalloc((void **)&dc,size);\n",
        "\n",
        "    cudaMemcpy(da, a, size,cudaMemcpyHostToDevice);\n",
        "    cudaMemcpy(db, b, size,cudaMemcpyHostToDevice);\n",
        "\n",
        "    // 1 block and n threads\n",
        "    vecAddKernel<<<1,n>>>(da,db,dc,n);\n",
        "\n",
        "    //n blocks and 1 thread\n",
        "    vecAddKernel<<<n,1>>>(da,db,dc,n);\n",
        "\n",
        "\n",
        "    // Error check\n",
        "    cudaError_t err = cudaGetLastError();\n",
        "    if (err != cudaSuccess) {\n",
        "        printf(\"CUDA error: %s\\n\", cudaGetErrorString(err));\n",
        "    }\n",
        "\n",
        "    // part-3 transfer to C\n",
        "\n",
        "    cudaMemcpy(c,dc,size,cudaMemcpyDeviceToHost);\n",
        "\n",
        "    printf(\"\\nFinal Array after adding both is : \");\n",
        "\n",
        "    for(int i=0;i<n;i++){\n",
        "        printf(\"%d\\t\",c[i]);\n",
        "    }\n",
        "\n",
        "    free(a);\n",
        "    free(b);\n",
        "    free(c);\n",
        "    cudaFree(da);\n",
        "    cudaFree(db);\n",
        "    cudaFree(dc);\n",
        "}"
      ],
      "metadata": {
        "colab": {
          "base_uri": "https://localhost:8080/"
        },
        "id": "sUFcasgj_VPf",
        "outputId": "e0a9ccac-053f-4e4c-9463-46a8345a1072"
      },
      "execution_count": 26,
      "outputs": [
        {
          "output_type": "stream",
          "name": "stdout",
          "text": [
            "Overwriting q1_b.cu\n"
          ]
        }
      ]
    },
    {
      "cell_type": "code",
      "source": [
        "!nvcc q1_b.cu -o output.out\n",
        "!./output.out"
      ],
      "metadata": {
        "colab": {
          "base_uri": "https://localhost:8080/"
        },
        "id": "ieqfkjPPAAo9",
        "outputId": "06f6240a-9f90-402a-a869-25d1d05b296b"
      },
      "execution_count": 27,
      "outputs": [
        {
          "output_type": "stream",
          "name": "stdout",
          "text": [
            "Enter Number of Elements: 3\n",
            "\n",
            " Enter Array A: 5 6 7\n",
            "\n",
            " Enter Array B: 1 4 3\n",
            "\n",
            "Final Array after adding both is : 6\t10\t10\t"
          ]
        }
      ]
    },
    {
      "cell_type": "code",
      "source": [
        "%%writefile q3.cu\n",
        "#include<stdio.h>\n",
        "#include<stdlib.h>\n",
        "#include<cuda.h>\n",
        "\n",
        "__global__ void ConvertToSines(double* a,int n){\n",
        "    int i=blockDim.x*blockIdx.x+threadIdx.x;\n",
        "\n",
        "    if(i<n){\n",
        "       a[i]=sin(a[i]);\n",
        "    }\n",
        "}\n",
        "\n",
        "int main(){\n",
        "    double*a, *da;\n",
        "    int n;\n",
        "    printf(\"Enter Number of Elements :\");\n",
        "    scanf(\"%d\",&n);\n",
        "\n",
        "    int size=n*sizeof(double);\n",
        "    a=(double*)malloc(size);\n",
        "\n",
        "    printf(\"Enter Elements: \");\n",
        "    for(int i=0;i<n;i++){\n",
        "        scanf(\"%lf\",&a[i]);\n",
        "    }\n",
        "\n",
        "    cudaMalloc((void**)&da,size);\n",
        "    cudaMemcpy(da,a, size, cudaMemcpyHostToDevice);\n",
        "\n",
        "    ConvertToSines<<<1,n>>>(da,n);\n",
        "\n",
        "    cudaMemcpy(a,da,size,cudaMemcpyDeviceToHost);\n",
        "\n",
        "    printf(\"\\nSines of Elements are: \");\n",
        "    for(int i=0;i<n;i++){\n",
        "        printf(\"%lf\\t\",a[i]);\n",
        "    }\n",
        "\n",
        "    cudaFree(da);\n",
        "    free(a);\n",
        "}"
      ],
      "metadata": {
        "colab": {
          "base_uri": "https://localhost:8080/"
        },
        "id": "LnnspbbRABsu",
        "outputId": "867b565f-d412-414d-dd4e-5741314cc475"
      },
      "execution_count": 36,
      "outputs": [
        {
          "output_type": "stream",
          "name": "stdout",
          "text": [
            "Overwriting q3.cu\n"
          ]
        }
      ]
    },
    {
      "cell_type": "code",
      "source": [
        "!nvcc q3.cu -o output.out\n",
        "!./output.out"
      ],
      "metadata": {
        "colab": {
          "base_uri": "https://localhost:8080/"
        },
        "id": "zieYIWI5ABv7",
        "outputId": "7365c4fa-a1c1-48ea-eedc-0695463f4121"
      },
      "execution_count": 37,
      "outputs": [
        {
          "output_type": "stream",
          "name": "stdout",
          "text": [
            "Enter Number of Elements :3\n",
            "Enter Elements: 30 60 90\n",
            "\n",
            "Sines of Elements are: -0.988032\t-0.304811\t0.893997\t"
          ]
        }
      ]
    },
    {
      "cell_type": "code",
      "source": [
        "%%writefile add_q1.cu\n",
        "#include <stdio.h>\n",
        "#include <cuda.h>\n",
        "#include <stdlib.h>\n",
        "\n",
        "__global__ void calculateY(double* x, double*y,int m, int c, int n){\n",
        "\n",
        "    int i=blockDim.x*blockIdx.x+threadIdx.x;\n",
        "\n",
        "    if(i<n){\n",
        "       y[i]=m*x[i]+c;\n",
        "    }\n",
        "}\n",
        "\n",
        "int main(){\n",
        "    int n;\n",
        "    printf(\"Enter Number of Elements: \");\n",
        "    scanf(\"%d\",&n);\n",
        "\n",
        "    double *x,*y;\n",
        "    int m, c;\n",
        "\n",
        "\n",
        "    x=(double *)malloc(n*sizeof(double));\n",
        "    y=(double *)malloc(n*sizeof(double));\n",
        "\n",
        "    printf(\"\\n Enter Array X: \");\n",
        "\n",
        "    for(int i=0;i<n;i++){\n",
        "        scanf(\"%lf\", &x[i]);\n",
        "    }\n",
        "    printf(\"Enter Slope and intercept: \");\n",
        "    scanf(\"%d %d\", &m, &c);\n",
        "\n",
        "    double *dy,*dx;\n",
        "\n",
        "    int size=n*sizeof(double);\n",
        "\n",
        "    cudaMalloc((void **)&dy,size);\n",
        "    cudaMalloc((void**)&dx,size);\n",
        "\n",
        "    cudaMemcpy(dy, y, size,cudaMemcpyHostToDevice);\n",
        "    cudaMemcpy(dx, x, size,cudaMemcpyHostToDevice);\n",
        "\n",
        "    calculateY<<<1,n>>>(dx,dy,m,c,n);\n",
        "\n",
        "    cudaMemcpy(y,dy,size,cudaMemcpyDeviceToHost);\n",
        "\n",
        "    printf(\"\\nFinal Array Y=mx+c i.e Y=(%d)*(x)+%d is : \",m,c);\n",
        "\n",
        "    for(int i=0;i<n;i++){\n",
        "        printf(\"%lf\\t\",y[i]);\n",
        "    }\n",
        "\n",
        "    free(x);\n",
        "    free(y);\n",
        "\n",
        "    cudaFree(dx);\n",
        "    cudaFree(dy);\n",
        "\n",
        "}"
      ],
      "metadata": {
        "colab": {
          "base_uri": "https://localhost:8080/"
        },
        "id": "U4mkTGNvABzT",
        "outputId": "932dea2d-3218-4657-ba15-3d8e34e7d767"
      },
      "execution_count": 48,
      "outputs": [
        {
          "output_type": "stream",
          "name": "stdout",
          "text": [
            "Overwriting add_q1.cu\n"
          ]
        }
      ]
    },
    {
      "cell_type": "code",
      "source": [
        "!nvcc add_q1.cu -o output.out\n",
        "!./output.out"
      ],
      "metadata": {
        "colab": {
          "base_uri": "https://localhost:8080/"
        },
        "id": "Qw2e8rYTAB1z",
        "outputId": "85c52062-6c92-4d92-ae30-22c369fa8d6a"
      },
      "execution_count": 49,
      "outputs": [
        {
          "output_type": "stream",
          "name": "stdout",
          "text": [
            "Enter Number of Elements: 5\n",
            "\n",
            " Enter Array X: 7 3 4 6 3\n",
            "Enter Slope and intercept: 3 2\n",
            "\n",
            "Final Array Y=mx+c i.e Y=(3)*(x)+2 is : 23.000000\t11.000000\t14.000000\t20.000000\t11.000000\t"
          ]
        }
      ]
    },
    {
      "cell_type": "code",
      "source": [],
      "metadata": {
        "id": "4FKCRvC1AB33"
      },
      "execution_count": null,
      "outputs": []
    },
    {
      "cell_type": "code",
      "source": [],
      "metadata": {
        "id": "IL2VqoHhAB6F"
      },
      "execution_count": null,
      "outputs": []
    },
    {
      "cell_type": "code",
      "source": [],
      "metadata": {
        "id": "t__b5S6aAB8L"
      },
      "execution_count": null,
      "outputs": []
    },
    {
      "cell_type": "code",
      "source": [],
      "metadata": {
        "id": "QBLWyk1DAB-Y"
      },
      "execution_count": null,
      "outputs": []
    },
    {
      "cell_type": "code",
      "source": [],
      "metadata": {
        "id": "UWmDqvOTACAT"
      },
      "execution_count": null,
      "outputs": []
    },
    {
      "cell_type": "code",
      "source": [],
      "metadata": {
        "id": "vuf9sMq9ACCq"
      },
      "execution_count": null,
      "outputs": []
    }
  ]
}